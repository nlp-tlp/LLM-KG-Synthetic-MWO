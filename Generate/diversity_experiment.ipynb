{
 "cells": [
  {
   "cell_type": "markdown",
   "metadata": {},
   "source": [
    "## Imports and Initialise"
   ]
  },
  {
   "cell_type": "code",
   "execution_count": 9,
   "metadata": {},
   "outputs": [
    {
     "name": "stdout",
     "output_type": "stream",
     "text": [
      "49\tpaths in object_property_paths\n",
      "391\tpaths in process_agent_paths\n",
      "269\tpaths in process_patient_paths\n",
      "1209\tpaths in state_patient_paths\n",
      "3\tpaths in object_property_state_paths\n",
      "0\tpaths in object_process_state_paths\n",
      "607\tpaths in state_agent_activity_paths\n",
      "37\tpaths in state_agent_patient_paths\n",
      "1229\tpaths in process_agent_patient_paths\n",
      "Total number of paths: 3794\n"
     ]
    }
   ],
   "source": [
    "import os\n",
    "import re\n",
    "import csv\n",
    "import json\n",
    "import random\n",
    "import numpy as np\n",
    "import pandas as pd\n",
    "import seaborn as sns\n",
    "import matplotlib.pyplot as plt\n",
    "from openai import OpenAI\n",
    "from dotenv import load_dotenv\n",
    "from llm_generate import get_all_paths, get_generate_prompt, process_mwo_response, paraphrase_mwo\n",
    "from llm_prompt import initialise_prompts, check_similarity\n",
    "\n",
    "load_dotenv()\n",
    "api_key = os.getenv('API_KEY')\n",
    "client = OpenAI(api_key=api_key)\n",
    "data, _ = get_all_paths(valid=True)"
   ]
  },
  {
   "cell_type": "markdown",
   "metadata": {},
   "source": [
    "## Functions"
   ]
  },
  {
   "cell_type": "code",
   "execution_count": 6,
   "metadata": {},
   "outputs": [],
   "source": [
    "def get_1fewshot_message(prompt_variations):\n",
    "    \"\"\" Get fewshot message given fewshot csv file for single-example prompt \"\"\"\n",
    "    message = [{\"role\": \"system\", \"content\": \"You are a technician recording maintenance work orders.\"}]\n",
    "    with open(\"fewshot_messages/fewshot_one.csv\", encoding='utf-8') as f:\n",
    "        data = csv.reader(f)\n",
    "        next(data) # Ignore header\n",
    "        for row in data:\n",
    "            object_name = row[0]\n",
    "            event_name = f\"{row[1]} {row[2]}\".strip()\n",
    "            prompt = get_generate_prompt(prompt_variations, object_name, event_name)\n",
    "            user = {\"role\": \"user\", \"content\": prompt}\n",
    "            assistant = {\"role\": \"assistant\", \"content\": row[3]}\n",
    "            message.append(user)\n",
    "            message.append(assistant)\n",
    "    return message\n",
    "\n",
    "def get_5fewshot_message(prompt_variations):\n",
    "    \"\"\" Get fewshot message given fewshot csv file for 5-example prompt \"\"\"\n",
    "    message = [{\"role\": \"system\", \"content\": \"You are a technician recording maintenance work orders.\"}]\n",
    "    with open(\"fewshot_messages/fewshot_generate.csv\", encoding='utf-8') as f:\n",
    "        data = csv.reader(f)\n",
    "        next(data) # Ignore header\n",
    "        for row in data:\n",
    "            object_name = row[0]\n",
    "            event_name = f\"{row[1]} {row[2]}\".strip()\n",
    "            prompt = get_generate_prompt(prompt_variations, object_name, event_name)\n",
    "            user = {\"role\": \"user\", \"content\": prompt}\n",
    "            example = f\"1. {row[4]}\\n2. {row[5]}\\n3. {row[6]}\\n4. {row[7]}\\n5. {row[8]}\"\n",
    "            assistant = {\"role\": \"assistant\", \"content\": example}\n",
    "            message.append(user)\n",
    "            message.append(assistant)\n",
    "    return message\n",
    "\n",
    "# Print some fewshot examples from MaintIE gold dataset\n",
    "def print_examples(object, event, helper=None):\n",
    "    \"\"\" Print some fewshot examples from the gold dataset \"\"\"\n",
    "    data = []\n",
    "    with open(\"../data/MaintIE/gold_release.json\", encoding='utf-8') as f:\n",
    "        gold = json.load(f)\n",
    "        for d in gold:\n",
    "            text = d['text'].replace(\"<id> \", \"\").replace(\" <id>\", \"\")\n",
    "            data.append(text)\n",
    "    for sentence in data:\n",
    "        event_exists = re.search(rf'\\b{event}\\b', sentence)\n",
    "        helper_exists = re.search(rf'\\b{helper}\\b', sentence) if helper else None\n",
    "        if object in sentence and event_exists and helper_exists:\n",
    "            print(f\"{object},{event},{helper},{sentence}\")\n",
    "            return True\n",
    "        elif object in sentence and event_exists:\n",
    "            print(f\"{object},{event},{sentence}\")\n",
    "            return True\n",
    "    return False\n",
    "\n",
    "# Process single response from the LLM\n",
    "def process_single_response(response):\n",
    "    \"\"\" Process single response from the LLM \"\"\"\n",
    "    response = response.lower()                     # Case folding\n",
    "    response = re.sub(r'[^\\w\\s]', ' ', response)    # Remove punctuation\n",
    "    response = re.sub(r\"\\s+\", \" \", response)        # Remove extra spaces\n",
    "    return response\n",
    "\n",
    "# write to outlog text file\n",
    "def write_to_outlog(title, data):\n",
    "    \"\"\" Write data to log text file \"\"\"\n",
    "    with open(\"mwo_sentences/path_diversity.txt\", \"a\", encoding='utf-8') as f:\n",
    "        f.write(\"========================================\\n\")\n",
    "        f.write(f\"{title}\\n\")\n",
    "        f.write(f\"- Number of unique: {len(data)}\\n\")\n",
    "        for d in data:\n",
    "            f.write(f\"{d}\\n\")\n",
    "        f.write(\"========================================\\n\")"
   ]
  },
  {
   "cell_type": "code",
   "execution_count": 5,
   "metadata": {},
   "outputs": [
    {
     "name": "stdout",
     "output_type": "stream",
     "text": [
      "air conditioner,leaking oil,air conditioner accessory drive leaking oil\n",
      "oil centrifuge gasket,leaking,oil centrifuge gasket leaking right hand engine\n",
      "brake pump,broken,change out broken bolt on brake pump\n",
      "radio,no reception,- no reception on AM / FM radio\n",
      "isolator,needs clean out,main isolator needs clean out\n"
     ]
    }
   ],
   "source": [
    "# Print some examples from the gold dataset\n",
    "successful_calls = 0\n",
    "while successful_calls < 5:\n",
    "    current = random.choice(data)\n",
    "    if 'helper_name' in current:\n",
    "        if print_examples(current['object_name'], current['event_name'], current['helper_name']):\n",
    "            successful_calls += 1\n",
    "    else:\n",
    "        if print_examples(current['object_name'], current['event_name']):\n",
    "            successful_calls += 1"
   ]
  },
  {
   "cell_type": "markdown",
   "metadata": {},
   "source": [
    "## Same prompt VS Variant prompts"
   ]
  },
  {
   "cell_type": "code",
   "execution_count": 7,
   "metadata": {},
   "outputs": [
    {
     "name": "stdout",
     "output_type": "stream",
     "text": [
      "Create a sentence for a Maintenance Work Order (MWO) that details the equipment and the undesirable event.\n",
      "Formulate a sentence regarding a Maintenance Work Order (MWO) that describes the equipment involved and the undesirable event.\n",
      "Draft a Maintenance Work Order (MWO) sentence outlining the equipment and the undesirable event that occurred.\n",
      "Compose a sentence for a Maintenance Work Order (MWO) that addresses the equipment and the related undesirable event.\n",
      "Write a sentence for a Maintenance Work Order (MWO) concerning the equipment and the undesirable event.\n",
      "Minimize stop words and refrain from verbosity.\n",
      "Steer clear of verbosity and limit stop words.\n",
      "Limit stop words and avoid unnecessary verbosity.\n",
      "Avoid verbosity and use few stop words.\n",
      "Use minimal stop words and avoid verbosity.\n",
      "An 8-word sentence is the maximum allowed.\n",
      "A sentence can have a maximum of 8 words.\n",
      "The sentence can consist of up to 8 words.\n",
      "You can create a sentence with 8 words.\n",
      "The maximum for a sentence is 8 words.\n"
     ]
    }
   ],
   "source": [
    "path = {\n",
    "        \"object_name\": \"park brake\",\n",
    "        \"event_name\": \"alarm fault\",\n",
    "        \"valid\": True,\n",
    "        \"alternate\": False\n",
    "    }\n",
    "prompt_variations = initialise_prompts(client, num_variants=5, num_examples=1)\n",
    "base_prompts, limit_words, limit_count = prompt_variations\n",
    "for b in base_prompts:\n",
    "    print(b)\n",
    "for w in limit_words:\n",
    "    print(w)\n",
    "for c in limit_count:\n",
    "    print(c)"
   ]
  },
  {
   "cell_type": "code",
   "execution_count": 8,
   "metadata": {},
   "outputs": [],
   "source": [
    "# Same prompt\n",
    "def same_prompt():\n",
    "    outputs = []\n",
    "    base_prompt = \"Generate a Maintenance Work Order (MWO) sentence describing the following equipment and undesirable event.\"\n",
    "    limit_words = \"Avoid verbosity and use minimal stop words.\"\n",
    "    limit_count = \"The sentence can have a maximum of 8 words.\"\n",
    "    prompt = f\"{base_prompt}\\nEquipment: {path['object_name']}\\nUndesirable Event: {path['event_name']}\"\n",
    "    prompt += f\"You must use all terms given above and do not add new information.\\n{limit_words}\\n{limit_count}\"\n",
    "    fewshot = get_1fewshot_message(([base_prompt], [limit_words], [limit_count]))\n",
    "    message = fewshot + [{\"role\": \"user\", \"content\": prompt}]\n",
    "\n",
    "    response = client.chat.completions.create(\n",
    "                    model=\"gpt-4o-mini\",\n",
    "                    messages=message,\n",
    "                    temperature=0.9,\n",
    "                    top_p=0.9,\n",
    "                    n=5\n",
    "                )\n",
    "\n",
    "    for choice in response.choices:\n",
    "        output = choice.message.content\n",
    "        output = process_single_response(output) \n",
    "        outputs.append(output)\n",
    "    return outputs"
   ]
  },
  {
   "cell_type": "code",
   "execution_count": 9,
   "metadata": {},
   "outputs": [],
   "source": [
    "# Variant prompts\n",
    "def variant_prompt():\n",
    "    outputs = []\n",
    "    fewshot = get_1fewshot_message(prompt_variations)\n",
    "    for _ in range(5):\n",
    "        prompt = get_generate_prompt(prompt_variations, path['object_name'], path['event_name'])\n",
    "        message = fewshot + [{\"role\": \"user\", \"content\": prompt}]\n",
    "        response = client.chat.completions.create(\n",
    "                        model=\"gpt-4o-mini\",\n",
    "                        messages=message,\n",
    "                        temperature=0.9,\n",
    "                        top_p=0.9,\n",
    "                        n=1\n",
    "                )\n",
    "\n",
    "        for choice in response.choices:\n",
    "            output = choice.message.content\n",
    "            output = process_single_response(output)\n",
    "            outputs.append(output)\n",
    "    return outputs"
   ]
  },
  {
   "cell_type": "code",
   "execution_count": 7,
   "metadata": {},
   "outputs": [
    {
     "name": "stdout",
     "output_type": "stream",
     "text": [
      "GPT given same prompt:\n",
      "- park brake alarm fault detected\n",
      "- park brake alarm fault detected\n",
      "- park brake alarm fault\n",
      "- park brake alarm fault\n",
      "- park brake alarm fault\n",
      "GPT given variant prompts:\n",
      "- park brake has alarm fault\n",
      "- park brake has alarm fault\n",
      "- park brake alarm fault detected\n",
      "- park brake alarm fault detected\n",
      "- park brake alarm fault\n"
     ]
    }
   ],
   "source": [
    "# Demo\n",
    "same = same_prompt()\n",
    "variant = variant_prompt()\n",
    "\n",
    "print (\"GPT given same prompt:\")\n",
    "for s in same:\n",
    "    print(f\"- {s}\")\n",
    "print (\"GPT given variant prompts:\")\n",
    "for v in variant:\n",
    "    print(f\"- {v}\")"
   ]
  },
  {
   "cell_type": "code",
   "execution_count": 17,
   "metadata": {},
   "outputs": [
    {
     "name": "stdout",
     "output_type": "stream",
     "text": [
      "Number of unique responses for same prompt: 3\n",
      "Number of unique responses for variant prompts: 3\n",
      "Total number of unique responses: 3\n"
     ]
    }
   ],
   "source": [
    "# Compare diversity over long run\n",
    "same = []\n",
    "variant = []\n",
    "for _ in range(20):\n",
    "    same.extend(same_prompt())\n",
    "    variant.extend(variant_prompt())\n",
    "print (f\"Number of unique responses for same prompt: {len(set(same))}\")\n",
    "print (f\"Number of unique responses for variant prompts: {len(set(variant))}\")\n",
    "write_to_outlog(\"OUTPUT FOR SAME PROMPT\", list(set(same)))\n",
    "write_to_outlog(\"OUTPUT FOR VARIANT PROMPTS\", list(set(variant)))\n",
    "total = same + variant\n",
    "print (f\"Total number of unique responses: {len(set(total))}\")"
   ]
  },
  {
   "cell_type": "markdown",
   "metadata": {},
   "source": [
    "## N completions VS N sentences in ONE completion"
   ]
  },
  {
   "cell_type": "code",
   "execution_count": 9,
   "metadata": {},
   "outputs": [],
   "source": [
    "# N sentences in ONE completion\n",
    "def n_sentences():\n",
    "    outputs = []\n",
    "    base_prompt = \"Generate 5 different Maintenance Work Order (MWO) sentences describing the following equipment and undesirable event.\"\n",
    "    limit_words = \"Avoid verbosity and use minimal stop words.\"\n",
    "    limit_count = \"Each sentence can have a maximum of 8 words.\"\n",
    "    prompt = f\"{base_prompt}\\nEquipment: {path['object_name']}\\nUndesirable Event: {path['event_name']}\"\n",
    "    prompt += f\"You must use all terms given above and do not add new information.\\n{limit_words}\\n{limit_count}\"\n",
    "    fewshot = get_5fewshot_message(([base_prompt], [limit_words], [limit_count]))\n",
    "    message = fewshot + [{\"role\": \"user\", \"content\": prompt}]\n",
    "\n",
    "    response = client.chat.completions.create(\n",
    "                    model=\"gpt-4o-mini\",\n",
    "                    messages=message,\n",
    "                    temperature=0.9,\n",
    "                    top_p=0.9,\n",
    "                    n=1\n",
    "                )\n",
    "\n",
    "    for choice in response.choices:\n",
    "        output = choice.message.content\n",
    "        output = process_mwo_response(output)\n",
    "        for sentence in output:\n",
    "            outputs.append(sentence)\n",
    "    return outputs"
   ]
  },
  {
   "cell_type": "code",
   "execution_count": 10,
   "metadata": {},
   "outputs": [
    {
     "name": "stdout",
     "output_type": "stream",
     "text": [
      "Output in N completions:\n",
      "- park brake alarm fault detected\n",
      "- park brake alarm fault\n",
      "- park brake alarm fault\n",
      "- park brake alarm fault\n",
      "- park brake alarm fault detected\n",
      "Output within 1 completion:\n",
      "- park brake alarm fault\n",
      "- alarm fault in park brake\n",
      "- park brake has alarm fault\n",
      "- alarm fault found in park brake\n",
      "- park brake showing alarm fault\n"
     ]
    }
   ],
   "source": [
    "# Demo\n",
    "n_completion = same_prompt()\n",
    "n_sentence = n_sentences()\n",
    "\n",
    "print (\"Output in N completions:\")\n",
    "for c in n_completion:\n",
    "    print(f\"- {c}\")\n",
    "print (\"Output within 1 completion:\")\n",
    "for s in n_sentence:\n",
    "    print(f\"- {s}\")"
   ]
  },
  {
   "cell_type": "code",
   "execution_count": 11,
   "metadata": {},
   "outputs": [
    {
     "name": "stdout",
     "output_type": "stream",
     "text": [
      "Number of unique responses for N completions: 2\n",
      "Number of unique responses for ONE completion: 15\n",
      "Total number of unique responses: 15\n"
     ]
    }
   ],
   "source": [
    "# Compare diversity over long run\n",
    "n_completion = []\n",
    "n_sentence = []\n",
    "for _ in range(20):\n",
    "    n_completion.extend(same_prompt())\n",
    "    n_sentence.extend(n_sentences())\n",
    "print (f\"Number of unique responses for N completions: {len(set(n_completion))}\")\n",
    "print (f\"Number of unique responses for ONE completion: {len(set(n_sentence))}\")\n",
    "write_to_outlog(\"OUTPUT IN N COMPLETIONS\", list(set(n_completion)))\n",
    "write_to_outlog(\"OUTPUT IN 1 COMPLETION\", list(set(n_sentence)))\n",
    "total_responses = n_completion + n_sentence\n",
    "print (f\"Total number of unique responses: {len(set(total_responses))}\")"
   ]
  },
  {
   "cell_type": "markdown",
   "metadata": {},
   "source": [
    "## Paraphrase VS Generation"
   ]
  },
  {
   "cell_type": "code",
   "execution_count": 12,
   "metadata": {},
   "outputs": [],
   "source": [
    "# Paraphrase\n",
    "def paraphrase():\n",
    "    outputs = []\n",
    "    base_prompt = \"Generate a Maintenance Work Order (MWO) sentence describing the following equipment and undesirable event.\"\n",
    "    limit_words = \"Avoid verbosity and use minimal stop words.\"\n",
    "    limit_count = \"Each sentence can have a maximum of 8 words.\"\n",
    "    prompt = f\"{base_prompt}\\nEquipment: {path['object_name']}\\nUndesirable Event: {path['event_name']}\"\n",
    "    prompt += f\"You must use all terms given above and do not add new information.\\n{limit_words}\\n{limit_count}\"\n",
    "    fewshot = get_1fewshot_message(([base_prompt], [limit_words], [limit_count]))\n",
    "    message = fewshot + [{\"role\": \"user\", \"content\": prompt}]\n",
    "\n",
    "    response = client.chat.completions.create(\n",
    "                    model=\"gpt-4o-mini\",\n",
    "                    messages=message,\n",
    "                    temperature=0.9,\n",
    "                    top_p=0.9,\n",
    "                    n=1\n",
    "            )\n",
    "\n",
    "    for choice in response.choices:\n",
    "        output = choice.message.content\n",
    "        output = process_single_response(output)\n",
    "        outputs.append(output)\n",
    "\n",
    "    keywords = [path['object_name'], path['event_name']]\n",
    "    paraphrases = paraphrase_mwo(client, output, keywords, 5)\n",
    "    outputs.extend(paraphrases)\n",
    "    outputs = list(set(outputs)) # Remove duplicates\n",
    "    return outputs[:5] # Only return 5 outputs"
   ]
  },
  {
   "cell_type": "code",
   "execution_count": 15,
   "metadata": {},
   "outputs": [
    {
     "name": "stdout",
     "output_type": "stream",
     "text": [
      "Output for Paraphrasing:\n",
      "- detected alarm fault in park brake\n",
      "- park brake alarm fault detected\n",
      "- park brake has alarm fault\n",
      "- alarm fault detected in park brake\n",
      "- alarm fault found in park brake\n",
      "Output for Generation:\n",
      "- park brake alarm fault\n",
      "- alarm fault in park brake\n",
      "- park brake has alarm fault\n",
      "- park brake alarm is faulty\n",
      "- faulty alarm in park brake\n"
     ]
    }
   ],
   "source": [
    "# Demo\n",
    "paraphrases = paraphrase()\n",
    "n_sentence = n_sentences()\n",
    "\n",
    "print (\"Output for Paraphrasing:\")\n",
    "for p in paraphrases:\n",
    "    print(f\"- {p}\")\n",
    "print (\"Output for Generation:\")\n",
    "for s in n_sentence:\n",
    "    print(f\"- {s}\")"
   ]
  },
  {
   "cell_type": "code",
   "execution_count": 16,
   "metadata": {},
   "outputs": [
    {
     "name": "stdout",
     "output_type": "stream",
     "text": [
      "Number of unique responses for paraphrasing: 25\n",
      "Number of unique responses for generation: 16\n",
      "Total unique responses: 32\n"
     ]
    }
   ],
   "source": [
    "# Compare diversity over long run\n",
    "paraphrases = []\n",
    "n_sentence = []\n",
    "for _ in range(20):\n",
    "    paraphrases.extend(paraphrase())\n",
    "    n_sentence.extend(n_sentences())\n",
    "print (f\"Number of unique responses for paraphrasing: {len(set(paraphrases))}\")\n",
    "print (f\"Number of unique responses for generation: {len(set(n_sentence))}\")\n",
    "write_to_outlog(\"OUTPUT FOR PARAPHRASING\", list(set(paraphrases)))\n",
    "write_to_outlog(\"OUTPUT FOR GENERATION\", list(set(n_sentence)))\n",
    "total_responses = paraphrases + n_sentence\n",
    "print (f\"Total unique responses: {len(set(total_responses))}\")"
   ]
  },
  {
   "cell_type": "markdown",
   "metadata": {},
   "source": [
    "## Other Paraphraser Models"
   ]
  },
  {
   "cell_type": "code",
   "execution_count": 34,
   "metadata": {},
   "outputs": [],
   "source": [
    "import torch\n",
    "import warnings\n",
    "warnings.filterwarnings(\"ignore\")\n",
    "\n",
    "def format_data():\n",
    "    finetune_data = []\n",
    "    with open('fewshot_messages/fewshot.csv', 'r', encoding='utf-8') as f:\n",
    "        data = csv.reader(f)\n",
    "        next(data) # Ignore header\n",
    "        for row in data:\n",
    "            if len(row) > 4:\n",
    "                original = row[3]\n",
    "                example = [row[4], row[5], row[6], row[7]]\n",
    "                for e in example:\n",
    "                    temp = {\n",
    "                        \"source\": original, \n",
    "                        \"target\": e\n",
    "                    }\n",
    "                    finetune_data.append(temp)\n",
    "                    \n",
    "    finetune_train = finetune_data[:int(0.8*len(finetune_data))]\n",
    "    finetune_val = finetune_data[int(0.8*len(finetune_data)):]\n",
    "    with open('fewshot_messages/train.json', 'w', encoding='utf-8') as f:\n",
    "        json.dump(finetune_train, f, indent=4)\n",
    "    with open('fewshot_messages/val.json', 'w', encoding='utf-8') as f:\n",
    "        json.dump(finetune_val, f, indent=4)\n",
    "\n",
    "# Transformer model for paraphrasing\n",
    "def model_paraphrase(model, tokenizer, sentence):\n",
    "    input_ids = tokenizer(\n",
    "        f'paraphrase: {sentence}',\n",
    "        return_tensors=\"pt\", padding=\"longest\",\n",
    "        max_length=25, truncation=True).input_ids.to(device)\n",
    "    outputs = model.generate(\n",
    "        input_ids, temperature=0.7, repetition_penalty=10.0,\n",
    "        num_return_sequences=5, no_repeat_ngram_size=2,\n",
    "        num_beams=5, num_beam_groups=5,\n",
    "        max_length=25, diversity_penalty=3.0\n",
    "    )\n",
    "    res = tokenizer.batch_decode(outputs, skip_special_tokens=True)\n",
    "    return res\n",
    "\n",
    "def paraphrase_sentences(tokenizer, model, sentences):\n",
    "    outputs = {}\n",
    "    for sentence in sentences:\n",
    "        batch = tokenizer([sentence],truncation=True,padding='longest',max_length=25, return_tensors=\"pt\").to(device)\n",
    "        paraphrased = model.generate(**batch, temperature=0.7, repetition_penalty=10.0,\n",
    "                                        num_return_sequences=5, no_repeat_ngram_size=2,\n",
    "                                        num_beams=5, num_beam_groups=5,\n",
    "                                        max_length=25, diversity_penalty=3.0\n",
    "                                    )\n",
    "        output = tokenizer.batch_decode(paraphrased, skip_special_tokens=True)\n",
    "        outputs[sentence] = output\n",
    "    return outputs\n",
    "\n",
    "format_data()\n",
    "\n",
    "sentences = [\"park brake alarm fault detected\",\n",
    "             \"alarm fault in park brake system\",\n",
    "             \"park brake has alarm fault\",\n",
    "             \"park brake system shows alarm fault\",\n",
    "             \"alarm fault present in park brake\",\n",
    "             \"The boy is walking happily on the street\"]    "
   ]
  },
  {
   "cell_type": "markdown",
   "metadata": {},
   "source": [
    "## BART Paraphrase Model"
   ]
  },
  {
   "cell_type": "code",
   "execution_count": 36,
   "metadata": {},
   "outputs": [
    {
     "name": "stdout",
     "output_type": "stream",
     "text": [
      "BART Outputs:\n",
      "park brake alarm fault detected:\n",
      "- Park brake alarm fault detected\n",
      "- The alarm fault was detected in the park brake.\n",
      "- park Brake alarm fault detected.\n",
      "- Brake brake alarm Fault detected\n",
      "- Park brake alarm Fault detect\n",
      "alarm fault in park brake system:\n",
      "- Alarm Fault in park brake system?\n",
      "- What is the cause of an alarm fault in a park brake system?\n",
      "- The alarm fault is in park brake system.\n",
      "- In park brake system, alarm fault is not fixed.\n",
      "- System Fault in park brake system?\n",
      "park brake has alarm fault:\n",
      "- Park brake has alarm fault. How can it be fixed?\n",
      "- The park brake has alarm fault. How can it be fixed?\n",
      "- What is the cause of a brake alarm fault?\n",
      "- Park brakes have an alarm fault. What should I do to fix it?\n",
      "- park brake has alarm faults, it is not working.\n",
      "park brake system shows alarm fault:\n",
      "- Park brake system shows alarm fault.\n",
      "- The park brake system shows alarm fault.\n",
      "- Park brakes show alarm fault. How can this be fixed?\n",
      "- A parking brake system shows an alarm fault. How can this be fixed?\n",
      "- park brake system shows alarm faults, says the company.\n",
      "alarm fault present in park brake:\n",
      "- Alarm fault present in park brake?\n",
      "- In park brake, there is an alarm fault.\n",
      "- What are the symptoms of an alarm fault in a park brake?\n",
      "- There is an alarm fault in park brake.\n",
      "- The alarm fault in park brake is present.\n",
      "The boy is walking happily on the street:\n",
      "- The boy is happily walking on the street.\n",
      "- He is happily walking on the street.\n",
      "- A young boy is happily walking on the street.\n",
      "- Mr. Williams, who is in his early 20s, is happily walking on the street.\n",
      "- The boy is walking happily in the road, he said.\n"
     ]
    }
   ],
   "source": [
    "# https://huggingface.co/eugenesiow/bart-paraphrase\n",
    "from transformers import BartForConditionalGeneration, BartTokenizer\n",
    "\n",
    "bart_model = BartForConditionalGeneration.from_pretrained('eugenesiow/bart-paraphrase')\n",
    "bart_tokenizer = BartTokenizer.from_pretrained('eugenesiow/bart-paraphrase')\n",
    "\n",
    "device = torch.device(\"cuda\" if torch.cuda.is_available() else \"cpu\")\n",
    "bart_model = bart_model.to(device)\n",
    "\n",
    "bart_outputs = paraphrase_sentences(bart_tokenizer, bart_model, sentences)\n",
    "\n",
    "print(\"BART Outputs:\")\n",
    "for sentence, outputs in bart_outputs.items():\n",
    "    print(f\"{sentence}:\")\n",
    "    for output in outputs:\n",
    "        print(f\"- {output}\")"
   ]
  },
  {
   "cell_type": "markdown",
   "metadata": {},
   "source": [
    "## T5 Paraphrase Model"
   ]
  },
  {
   "cell_type": "code",
   "execution_count": 32,
   "metadata": {},
   "outputs": [
    {
     "name": "stdout",
     "output_type": "stream",
     "text": [
      "park brake alarm fault detected:\n",
      "- A park brake warning error has been found.\n",
      "- An accident has been reported with the park brake alert.\n",
      "- There has been a problem with the park brake alert system.\n",
      "- A parking brake alarm fault was detected.\n",
      "- The park brake alert system is running fine, but it has been detected.\n",
      "alarm fault in park brake system:\n",
      "- An alarm is raised in the park brake system.\n",
      "- An alarm system in the park brake system is failing.\n",
      "- There is an error in the park brake system that causes this alert.\n",
      "- an error occurred in the park brake system, causing an alarm.\n",
      "- In the park brake system, an alarm clock malfunctions.\n",
      "park brake has alarm fault:\n",
      "- The park brake has an alarm clock fault.\n",
      "- The park brake has an error, according to the driver.\n",
      "- A security issue with the park brake has been fixed.\n",
      "- An alarm is triggered by the park brake.\n",
      "- If the park brake has an error, it is possible to fix it.\n",
      "park brake system shows alarm fault:\n",
      "- The park brake system is showing an error.\n",
      "- An alarm clock is detected on the park brake system.\n",
      "- The park brake system sounds an alarm clock failure.\n",
      "- A warning light on the park brake system has been flashing.\n",
      "- An alarm system has failed in the park brake unit.\n",
      "alarm fault present in park brake:\n",
      "- In the park brake, an alarm clock malfunction is present.\n",
      "- An alarm clock fault is present in the park brake.\n",
      "- The park brake has an alarm system that is malfunctioning.\n",
      "- There is an alarm fault in the park brake system.\n",
      "- A warning light is triggered by the park brake, which is present in the vehicle.\n",
      "The boy is walking happily on the street:\n",
      "- The boy is walking happily on the street.\n",
      "- The child is enjoying his time on the street.\n",
      "- The little boy is walking happily on the pavement.\n",
      "- On the street, the boy is enjoying himself while walking happily.\n",
      "- He is walking happily on the street.\n"
     ]
    }
   ],
   "source": [
    "# https://huggingface.co/ramsrigouthamg/t5_sentence_paraphraser\n",
    "from transformers import T5ForConditionalGeneration,T5Tokenizer\n",
    "\n",
    "t5_sent_model = T5ForConditionalGeneration.from_pretrained(\"ramsrigouthamg/t5_sentence_paraphraser\")\n",
    "t5_sent_tokenizer = T5Tokenizer.from_pretrained(\"ramsrigouthamg/t5_sentence_paraphraser\")\n",
    "\n",
    "device = torch.device(\"cuda\" if torch.cuda.is_available() else \"cpu\")\n",
    "t5_sent_model = t5_sent_model.to(device)\n",
    "\n",
    "for sentence in sentences:\n",
    "    outputs = model_paraphrase(t5_sent_model, t5_sent_tokenizer, sentence)\n",
    "    print(f\"{sentence}:\")\n",
    "    for output in outputs:\n",
    "        print(f\"- {output.removeprefix('paraphrasedoutput: ')}\")"
   ]
  },
  {
   "cell_type": "markdown",
   "metadata": {},
   "source": [
    "## ChatGPT Paraphrase T5"
   ]
  },
  {
   "cell_type": "code",
   "execution_count": 13,
   "metadata": {},
   "outputs": [
    {
     "name": "stdout",
     "output_type": "stream",
     "text": [
      "park brake alarm fault detected:\n",
      "- A fault in the park brake alarm has been identified.\n",
      "- Detection of a fault in the park brake alarm system\n",
      "- The park brake alarm has been deemed defective.\n",
      "- An error has been identified in the park brake alarm's functionality.\n",
      "- Park brake alarm faulty, please.\n",
      "alarm fault in park brake system:\n",
      "- An alarm failure has been detected in the park brake system.\n",
      "- The park brake system has been deemed to be defective due to an\n",
      "- A faulty alarm in the parking brake system has been detected.\n",
      "- There is an alarm failure in the park brake system.\n",
      "- Park brakes issue alarm\n",
      "park brake has alarm fault:\n",
      "- The park brake is experiencing an alarm failure.\n",
      "- Alarm jamming on park brake\n",
      "- Park brake with alarm faulty.\n",
      "- An alarm is malfunctioning on the park brake.\n",
      "- Alarm caliper failing on park brake.\n",
      "park brake system shows alarm fault:\n",
      "- The alarm is malfunctioning on the park brake system.\n",
      "- Alarm triggered by park brake system.\n",
      "- Alarm failure occurs in the parking brake system.\n",
      "- The park brake system is malfunctioning and the alarm has been activated\n",
      "- An alarm failure is causing the brakes to stop turning on the\n",
      "alarm fault present in park brake:\n",
      "- A fault in the park brakes is causing an alarm failure.\n",
      "- An alarm malfunction was observed in the park brakes.\n",
      "- The park brakes are experiencing an alarm failure.\n",
      "- Park brake issue with alarm.\n",
      "- There is an alarm failure on the parking brakes.\n",
      "The boy is walking happily on the street:\n",
      "- The boy is enjoying himself on the street.\n",
      "- With a smile on his face, the boy strolls along the\n",
      "- A happy boy walks along the street\n",
      "- Happy on the street: The boy walks along happily.\n",
      "- The boy walks in a cheerful manner on the street.\n"
     ]
    }
   ],
   "source": [
    "# https://huggingface.co/humarin/chatgpt_paraphraser_on_T5_base\n",
    "from transformers import AutoTokenizer, AutoModelForSeq2SeqLM\n",
    "\n",
    "chat_tokenizer = AutoTokenizer.from_pretrained(\"humarin/chatgpt_paraphraser_on_T5_base\")\n",
    "chat_model = AutoModelForSeq2SeqLM.from_pretrained(\"humarin/chatgpt_paraphraser_on_T5_base\").to(device)\n",
    "\n",
    "device = torch.device(\"cuda\" if torch.cuda.is_available() else \"cpu\")\n",
    "chat_model = chat_model.to(device)\n",
    "\n",
    "for sentence in sentences:\n",
    "    outputs = model_paraphrase(chat_model, chat_tokenizer, sentence)\n",
    "    print(f\"{sentence}:\")\n",
    "    for output in outputs:\n",
    "        print(f\"- {output}\")"
   ]
  },
  {
   "cell_type": "markdown",
   "metadata": {},
   "source": [
    "## Parrot Paraphrase Model T5"
   ]
  },
  {
   "cell_type": "code",
   "execution_count": 6,
   "metadata": {},
   "outputs": [
    {
     "name": "stdout",
     "output_type": "stream",
     "text": [
      "park brake alarm fault detected\n",
      "- ('park brake alarm fault detected', 0)\n",
      "alarm fault in park brake system\n",
      "- ('warning of a fault in the brake system', 17)\n",
      "park brake has alarm fault\n",
      "No paraphrases found.\n",
      "park brake system shows alarm fault\n",
      "- ('the park brakes system shows an alarm fault', 13)\n",
      "alarm fault present in park brake\n",
      "- ('warning of a fault in the park brake', 22)\n",
      "The boy is walking happily on the street\n",
      "- ('a happy boy walks along the streets', 26)\n",
      "- ('he walks happily on the street', 23)\n",
      "- ('the boy walks happily in the street', 19)\n",
      "- ('the boy walks happily on the street', 18)\n",
      "- ('the boy is walking happily on the street', 12)\n"
     ]
    }
   ],
   "source": [
    "# https://huggingface.co/prithivida/parrot_paraphraser_on_T5\n",
    "from parrot import Parrot\n",
    "\n",
    "parrot = Parrot(model_tag=\"prithivida/parrot_paraphraser_on_T5\", use_gpu=False)\n",
    "\n",
    "for sentence in sentences:\n",
    "    print(sentence)\n",
    "    paraphrases = parrot.augment(input_phrase=sentence,\n",
    "                                diversity_ranker=\"levenshtein\",\n",
    "                                do_diverse=True, \n",
    "                                max_return_phrases=5, \n",
    "                                max_length=8)\n",
    "    if paraphrases:\n",
    "        for p in paraphrases:\n",
    "            print(f\"- {p}\")\n",
    "    else:\n",
    "        print(\"No paraphrases found.\")"
   ]
  },
  {
   "cell_type": "markdown",
   "metadata": {},
   "source": [
    "## PEGASUS fine-tuned for Paraphrasing"
   ]
  },
  {
   "cell_type": "code",
   "execution_count": 15,
   "metadata": {},
   "outputs": [
    {
     "name": "stderr",
     "output_type": "stream",
     "text": [
      "Some weights of PegasusForConditionalGeneration were not initialized from the model checkpoint at tuner007/pegasus_paraphrase and are newly initialized: ['model.decoder.embed_positions.weight', 'model.encoder.embed_positions.weight']\n",
      "You should probably TRAIN this model on a down-stream task to be able to use it for predictions and inference.\n"
     ]
    },
    {
     "name": "stdout",
     "output_type": "stream",
     "text": [
      "park brake alarm fault detected:\n",
      "- The park brake alarm fault was detected.\n",
      "- Park brake alarm fault detected.\n",
      "- A fault with the park brake alarm has been detected.\n",
      "- There is a park brake alarm fault\n",
      "- Park brakes fault detected.\n",
      "alarm fault in park brake system:\n",
      "- There is an alarm fault in the park brake system.\n",
      "- The alarm fault in the park brake system.\n",
      "- Park brake system has an alarm fault.\n",
      "- It was a fault in the park brake system.\n",
      "- A fault in the park brake system was cited.\n",
      "park brake has alarm fault:\n",
      "- The park brake has an alarm fault.\n",
      "- Park brake has an alarm fault.\n",
      "- There is an alarm fault with the park brake.\n",
      "- The alarm fault is on the park brake.\n",
      "- A park brake has a problem\n",
      "park brake system shows alarm fault:\n",
      "- The park brake system has an alarm fault.\n",
      "- Park brake system shows alarm fault.\n",
      "- There is an alarm fault in the park brake system.\n",
      "- A park brakes alarm shows a fault.\n",
      "- The Park Brake System shows alarm fault\n",
      "alarm fault present in park brake:\n",
      "- There is an alarm fault in the park brake.\n",
      "- A fault in the park brake.\n",
      "- It was a fault in the park brake.\n",
      "- alarm fault present in the park brake\n",
      "- The alarm fault is present in the park brakes.\n",
      "The boy is walking happily on the street:\n",
      "- The boy is walking happily.\n",
      "- There is a boy walking on the street.\n",
      "- A boy walks happily on the street.\n",
      "- The child is on the street.\n",
      "- the kid walked happily on a road\n"
     ]
    }
   ],
   "source": [
    "# https://huggingface.co/tuner007/pegasus_paraphrase\n",
    "from transformers import PegasusForConditionalGeneration, PegasusTokenizer\n",
    "\n",
    "pegasus_model = PegasusForConditionalGeneration.from_pretrained(\"tuner007/pegasus_paraphrase\")\n",
    "pegasus_tokenizer = PegasusTokenizer.from_pretrained(\"tuner007/pegasus_paraphrase\")\n",
    "\n",
    "device = torch.device(\"cuda\" if torch.cuda.is_available() else \"cpu\")\n",
    "pegasus_model = pegasus_model.to(device)\n",
    "\n",
    "for sentence in sentences:\n",
    "    outputs = model_paraphrase(pegasus_model, pegasus_tokenizer, sentence)\n",
    "    print(f\"{sentence}:\")\n",
    "    for output in outputs:\n",
    "        print(f\"- {output}\")"
   ]
  },
  {
   "cell_type": "markdown",
   "metadata": {},
   "source": [
    "## Temperature and Top-p Parameter Sensitivity Analysis"
   ]
  },
  {
   "cell_type": "code",
   "execution_count": 7,
   "metadata": {},
   "outputs": [],
   "source": [
    "temperature_values = [0.0, 0.15, 0.3, 0.45, 0.6, 0.75, 0.9, 1.05, 1.2, 1.35, 1.5, 1.65, 1.8, 2.0]\n",
    "top_p_values = [0.0, 0.1, 0.2, 0.3, 0.4, 0.5, 0.6, 0.7, 0.8, 0.9, 1.0]\n",
    "\n",
    "# Generate a sentence per completion 5 times using a given temperature and top-p value\n",
    "def test_parameters(temperature, top_p):\n",
    "    outputs = []\n",
    "    base_prompt = \"Generate 5 different Maintenance Work Order (MWO) sentences describing the following equipment and undesirable event.\"\n",
    "    limit_words = \"Avoid verbosity and use minimal stop words.\"\n",
    "    limit_count = \"Each sentence can have a maximum of 8 words.\"\n",
    "    prompt = f\"{base_prompt}\\nEquipment: {path['object_name']}\\nUndesirable Event: {path['event_name']}\"\n",
    "    prompt += f\"You must use all terms given above and do not add new information.\\n{limit_words}\\n{limit_count}\"\n",
    "    fewshot = get_5fewshot_message(([base_prompt], [limit_words], [limit_count]))\n",
    "    message = fewshot + [{\"role\": \"user\", \"content\": prompt}]\n",
    "\n",
    "    response = client.chat.completions.create(\n",
    "                    model=\"gpt-4o-mini\",\n",
    "                    messages=message,\n",
    "                    temperature=0.9,\n",
    "                    top_p=0.9,\n",
    "                    n=1\n",
    "                )\n",
    "\n",
    "    for choice in response.choices:\n",
    "        output = choice.message.content\n",
    "        output = process_mwo_response(output)\n",
    "        for sentence in output:\n",
    "            outputs.append(sentence)\n",
    "    return outputs"
   ]
  },
  {
   "cell_type": "code",
   "execution_count": 10,
   "metadata": {},
   "outputs": [
    {
     "name": "stdout",
     "output_type": "stream",
     "text": [
      "[1/154] Completed temperature=0.0, top-p=0.0\n",
      "[2/154] Completed temperature=0.0, top-p=0.1\n",
      "[3/154] Completed temperature=0.0, top-p=0.2\n",
      "[4/154] Completed temperature=0.0, top-p=0.3\n",
      "[5/154] Completed temperature=0.0, top-p=0.4\n",
      "[6/154] Completed temperature=0.0, top-p=0.5\n",
      "[7/154] Completed temperature=0.0, top-p=0.6\n",
      "[8/154] Completed temperature=0.0, top-p=0.7\n",
      "[9/154] Completed temperature=0.0, top-p=0.8\n",
      "[10/154] Completed temperature=0.0, top-p=0.9\n",
      "[11/154] Completed temperature=0.0, top-p=1.0\n",
      "[12/154] Completed temperature=0.15, top-p=0.0\n",
      "[13/154] Completed temperature=0.15, top-p=0.1\n",
      "[14/154] Completed temperature=0.15, top-p=0.2\n",
      "[15/154] Completed temperature=0.15, top-p=0.3\n",
      "[16/154] Completed temperature=0.15, top-p=0.4\n",
      "[17/154] Completed temperature=0.15, top-p=0.5\n",
      "[18/154] Completed temperature=0.15, top-p=0.6\n",
      "[19/154] Completed temperature=0.15, top-p=0.7\n",
      "[20/154] Completed temperature=0.15, top-p=0.8\n",
      "[21/154] Completed temperature=0.15, top-p=0.9\n",
      "[22/154] Completed temperature=0.15, top-p=1.0\n",
      "[23/154] Completed temperature=0.3, top-p=0.0\n",
      "[24/154] Completed temperature=0.3, top-p=0.1\n",
      "[25/154] Completed temperature=0.3, top-p=0.2\n",
      "[26/154] Completed temperature=0.3, top-p=0.3\n",
      "[27/154] Completed temperature=0.3, top-p=0.4\n",
      "[28/154] Completed temperature=0.3, top-p=0.5\n",
      "[29/154] Completed temperature=0.3, top-p=0.6\n",
      "[30/154] Completed temperature=0.3, top-p=0.7\n",
      "[31/154] Completed temperature=0.3, top-p=0.8\n",
      "[32/154] Completed temperature=0.3, top-p=0.9\n",
      "[33/154] Completed temperature=0.3, top-p=1.0\n",
      "[34/154] Completed temperature=0.45, top-p=0.0\n",
      "[35/154] Completed temperature=0.45, top-p=0.1\n",
      "[36/154] Completed temperature=0.45, top-p=0.2\n",
      "[37/154] Completed temperature=0.45, top-p=0.3\n",
      "[38/154] Completed temperature=0.45, top-p=0.4\n",
      "[39/154] Completed temperature=0.45, top-p=0.5\n",
      "[40/154] Completed temperature=0.45, top-p=0.6\n",
      "[41/154] Completed temperature=0.45, top-p=0.7\n",
      "[42/154] Completed temperature=0.45, top-p=0.8\n",
      "[43/154] Completed temperature=0.45, top-p=0.9\n",
      "[44/154] Completed temperature=0.45, top-p=1.0\n",
      "[45/154] Completed temperature=0.6, top-p=0.0\n",
      "[46/154] Completed temperature=0.6, top-p=0.1\n",
      "[47/154] Completed temperature=0.6, top-p=0.2\n",
      "[48/154] Completed temperature=0.6, top-p=0.3\n",
      "[49/154] Completed temperature=0.6, top-p=0.4\n",
      "[50/154] Completed temperature=0.6, top-p=0.5\n",
      "[51/154] Completed temperature=0.6, top-p=0.6\n",
      "[52/154] Completed temperature=0.6, top-p=0.7\n",
      "[53/154] Completed temperature=0.6, top-p=0.8\n",
      "[54/154] Completed temperature=0.6, top-p=0.9\n",
      "[55/154] Completed temperature=0.6, top-p=1.0\n",
      "[56/154] Completed temperature=0.75, top-p=0.0\n",
      "[57/154] Completed temperature=0.75, top-p=0.1\n",
      "[58/154] Completed temperature=0.75, top-p=0.2\n",
      "[59/154] Completed temperature=0.75, top-p=0.3\n",
      "[60/154] Completed temperature=0.75, top-p=0.4\n",
      "[61/154] Completed temperature=0.75, top-p=0.5\n",
      "[62/154] Completed temperature=0.75, top-p=0.6\n",
      "[63/154] Completed temperature=0.75, top-p=0.7\n",
      "[64/154] Completed temperature=0.75, top-p=0.8\n",
      "[65/154] Completed temperature=0.75, top-p=0.9\n",
      "[66/154] Completed temperature=0.75, top-p=1.0\n",
      "[67/154] Completed temperature=0.9, top-p=0.0\n",
      "[68/154] Completed temperature=0.9, top-p=0.1\n",
      "[69/154] Completed temperature=0.9, top-p=0.2\n",
      "[70/154] Completed temperature=0.9, top-p=0.3\n",
      "[71/154] Completed temperature=0.9, top-p=0.4\n",
      "[72/154] Completed temperature=0.9, top-p=0.5\n",
      "[73/154] Completed temperature=0.9, top-p=0.6\n",
      "[74/154] Completed temperature=0.9, top-p=0.7\n",
      "[75/154] Completed temperature=0.9, top-p=0.8\n",
      "[76/154] Completed temperature=0.9, top-p=0.9\n",
      "[77/154] Completed temperature=0.9, top-p=1.0\n",
      "[78/154] Completed temperature=1.05, top-p=0.0\n",
      "[79/154] Completed temperature=1.05, top-p=0.1\n",
      "[80/154] Completed temperature=1.05, top-p=0.2\n",
      "[81/154] Completed temperature=1.05, top-p=0.3\n",
      "[82/154] Completed temperature=1.05, top-p=0.4\n",
      "[83/154] Completed temperature=1.05, top-p=0.5\n",
      "[84/154] Completed temperature=1.05, top-p=0.6\n",
      "[85/154] Completed temperature=1.05, top-p=0.7\n",
      "[86/154] Completed temperature=1.05, top-p=0.8\n",
      "[87/154] Completed temperature=1.05, top-p=0.9\n",
      "[88/154] Completed temperature=1.05, top-p=1.0\n",
      "[89/154] Completed temperature=1.2, top-p=0.0\n",
      "[90/154] Completed temperature=1.2, top-p=0.1\n",
      "[91/154] Completed temperature=1.2, top-p=0.2\n",
      "[92/154] Completed temperature=1.2, top-p=0.3\n",
      "[93/154] Completed temperature=1.2, top-p=0.4\n",
      "[94/154] Completed temperature=1.2, top-p=0.5\n",
      "[95/154] Completed temperature=1.2, top-p=0.6\n",
      "[96/154] Completed temperature=1.2, top-p=0.7\n",
      "[97/154] Completed temperature=1.2, top-p=0.8\n",
      "[98/154] Completed temperature=1.2, top-p=0.9\n",
      "[99/154] Completed temperature=1.2, top-p=1.0\n",
      "[100/154] Completed temperature=1.35, top-p=0.0\n",
      "[101/154] Completed temperature=1.35, top-p=0.1\n",
      "[102/154] Completed temperature=1.35, top-p=0.2\n",
      "[103/154] Completed temperature=1.35, top-p=0.3\n",
      "[104/154] Completed temperature=1.35, top-p=0.4\n",
      "[105/154] Completed temperature=1.35, top-p=0.5\n",
      "[106/154] Completed temperature=1.35, top-p=0.6\n",
      "[107/154] Completed temperature=1.35, top-p=0.7\n",
      "[108/154] Completed temperature=1.35, top-p=0.8\n",
      "[109/154] Completed temperature=1.35, top-p=0.9\n",
      "[110/154] Completed temperature=1.35, top-p=1.0\n",
      "[111/154] Completed temperature=1.5, top-p=0.0\n",
      "[112/154] Completed temperature=1.5, top-p=0.1\n",
      "[113/154] Completed temperature=1.5, top-p=0.2\n",
      "[114/154] Completed temperature=1.5, top-p=0.3\n",
      "[115/154] Completed temperature=1.5, top-p=0.4\n",
      "[116/154] Completed temperature=1.5, top-p=0.5\n",
      "[117/154] Completed temperature=1.5, top-p=0.6\n",
      "[118/154] Completed temperature=1.5, top-p=0.7\n",
      "[119/154] Completed temperature=1.5, top-p=0.8\n",
      "[120/154] Completed temperature=1.5, top-p=0.9\n",
      "[121/154] Completed temperature=1.5, top-p=1.0\n",
      "[122/154] Completed temperature=1.65, top-p=0.0\n",
      "[123/154] Completed temperature=1.65, top-p=0.1\n",
      "[124/154] Completed temperature=1.65, top-p=0.2\n",
      "[125/154] Completed temperature=1.65, top-p=0.3\n",
      "[126/154] Completed temperature=1.65, top-p=0.4\n",
      "[127/154] Completed temperature=1.65, top-p=0.5\n",
      "[128/154] Completed temperature=1.65, top-p=0.6\n",
      "[129/154] Completed temperature=1.65, top-p=0.7\n",
      "[130/154] Completed temperature=1.65, top-p=0.8\n",
      "[131/154] Completed temperature=1.65, top-p=0.9\n",
      "[132/154] Completed temperature=1.65, top-p=1.0\n",
      "[133/154] Completed temperature=1.8, top-p=0.0\n",
      "[134/154] Completed temperature=1.8, top-p=0.1\n",
      "[135/154] Completed temperature=1.8, top-p=0.2\n",
      "[136/154] Completed temperature=1.8, top-p=0.3\n",
      "[137/154] Completed temperature=1.8, top-p=0.4\n",
      "[138/154] Completed temperature=1.8, top-p=0.5\n",
      "[139/154] Completed temperature=1.8, top-p=0.6\n",
      "[140/154] Completed temperature=1.8, top-p=0.7\n",
      "[141/154] Completed temperature=1.8, top-p=0.8\n",
      "[142/154] Completed temperature=1.8, top-p=0.9\n",
      "[143/154] Completed temperature=1.8, top-p=1.0\n",
      "[144/154] Completed temperature=2.0, top-p=0.0\n",
      "[145/154] Completed temperature=2.0, top-p=0.1\n",
      "[146/154] Completed temperature=2.0, top-p=0.2\n",
      "[147/154] Completed temperature=2.0, top-p=0.3\n",
      "[148/154] Completed temperature=2.0, top-p=0.4\n",
      "[149/154] Completed temperature=2.0, top-p=0.5\n",
      "[150/154] Completed temperature=2.0, top-p=0.6\n",
      "[151/154] Completed temperature=2.0, top-p=0.7\n",
      "[152/154] Completed temperature=2.0, top-p=0.8\n",
      "[153/154] Completed temperature=2.0, top-p=0.9\n",
      "[154/154] Completed temperature=2.0, top-p=1.0\n",
      "      Temperature  Top-p                          MWO Output\n",
      "0             0.0    0.0              park brake alarm fault\n",
      "1             0.0    0.0           alarm fault in park brake\n",
      "2             0.0    0.0          park brake has alarm fault\n",
      "3             0.0    0.0        park brake shows alarm fault\n",
      "4             0.0    0.0           fault in park brake alarm\n",
      "...           ...    ...                                 ...\n",
      "3845          2.0    1.0              park brake alarm fault\n",
      "3846          2.0    1.0           alarm fault in park brake\n",
      "3847          2.0    1.0          park brake has alarm fault\n",
      "3848          2.0    1.0      park brake alarm showing fault\n",
      "3849          2.0    1.0  fault detected in park brake alarm\n",
      "\n",
      "[3850 rows x 3 columns]\n",
      "Saved to output/temp_top-p_sensitivity.csv\n"
     ]
    }
   ],
   "source": [
    "path = {\n",
    "        \"object_name\": \"park brake\",\n",
    "        \"event_name\": \"alarm fault\",\n",
    "        \"valid\": True,\n",
    "        \"alternate\": False\n",
    "    }\n",
    "\n",
    "num_trials = 5\n",
    "results = []\n",
    "\n",
    "current_combination = 0\n",
    "total_combinations = len(temperature_values) * len(top_p_values)\n",
    "\n",
    "for temp in temperature_values:\n",
    "    for top_p in top_p_values:\n",
    "        for trial in range(num_trials):\n",
    "            outputs = test_parameters(temp, top_p)\n",
    "            for output in outputs:\n",
    "                results.append({\"Temperature\": temp, \"Top-p\": top_p, \"MWO Output\": output})\n",
    "        \n",
    "        current_combination += 1\n",
    "        print(f\"[{current_combination}/{total_combinations}] Completed temperature={temp}, top-p={top_p}\")\n",
    "\n",
    "df = pd.DataFrame(results)\n",
    "df.to_csv('output/temp_top-p_sensitivity.csv', index=False)\n",
    "print(df)\n",
    "print(\"Saved to output/temp_top-p_sensitivity.csv\")"
   ]
  },
  {
   "cell_type": "markdown",
   "metadata": {},
   "source": [
    "### Unique Outputs Analysis"
   ]
  },
  {
   "cell_type": "code",
   "execution_count": 11,
   "metadata": {},
   "outputs": [
    {
     "data": {
      "image/png": "[encoded data removed]",
      "text/plain": [
       "<Figure size 1200x600 with 1 Axes>"
      ]
     },
     "metadata": {},
     "output_type": "display_data"
    }
   ],
   "source": [
    "unique_outputs_df = df.groupby(['Temperature', 'Top-p'])['MWO Output'].nunique().reset_index()\n",
    "unique_outputs_df.to_csv('output/unique_outputs_count.csv', index=False)\n",
    "unique_outputs_df.columns = ['Temperature', 'Top-p', 'Unique Outputs Count']\n",
    "\n",
    "# Plotting Unique Outputs Count\n",
    "plt.figure(figsize=(12, 6))\n",
    "sns.barplot(data=unique_outputs_df, x='Temperature', y='Unique Outputs Count', hue='Top-p')\n",
    "plt.title('Unique Outputs Count by Temperature and Top-p')\n",
    "plt.xlabel('Temperature')\n",
    "plt.ylabel('Unique Outputs Count')\n",
    "plt.legend(title='Top-p')\n",
    "plt.xticks(rotation=45)\n",
    "plt.tight_layout()\n",
    "plt.show()"
   ]
  },
  {
   "cell_type": "markdown",
   "metadata": {},
   "source": [
    "### Unique Tokens Analysis"
   ]
  },
  {
   "cell_type": "code",
   "execution_count": 12,
   "metadata": {},
   "outputs": [
    {
     "data": {
      "image/png": "[encoded data removed]",
      "text/plain": [
       "<Figure size 1200x600 with 1 Axes>"
      ]
     },
     "metadata": {},
     "output_type": "display_data"
    }
   ],
   "source": [
    "def count_unique_tokens(results_df):\n",
    "    unique_token_counts = []\n",
    "    grouped = results_df.groupby(['Temperature', 'Top-p'])['MWO Output'].apply(list).reset_index()\n",
    "    for _, row in grouped.iterrows():\n",
    "        combined_outputs = ' '.join(row['MWO Output'])\n",
    "        tokens = set(combined_outputs.split())\n",
    "        unique_token_count = len(tokens)\n",
    "        unique_token_counts.append({\n",
    "            'Temperature': row['Temperature'],\n",
    "            'Top-p': row['Top-p'],\n",
    "            'Unique Token Count': unique_token_count\n",
    "        })\n",
    "\n",
    "    unique_tokens_df = pd.DataFrame(unique_token_counts)\n",
    "    return unique_tokens_df\n",
    "\n",
    "unique_tokens_df = count_unique_tokens(df)\n",
    "unique_tokens_df.to_csv('output/unique_tokens_count.csv', index=False)\n",
    "unique_tokens_df.columns = ['Temperature', 'Top-p', 'Unique Token Count']\n",
    "\n",
    "# Plotting Unique Tokens Count\n",
    "plt.figure(figsize=(12, 6))\n",
    "sns.barplot(data=unique_tokens_df, x='Temperature', y='Unique Token Count', hue='Top-p')\n",
    "plt.title('Unique Tokens Count by Temperature and Top-p')\n",
    "plt.xlabel('Temperature')\n",
    "plt.ylabel('Unique Tokens Count')\n",
    "plt.legend(title='Top-p')\n",
    "plt.xticks(rotation=45)\n",
    "plt.tight_layout()\n",
    "plt.show()"
   ]
  },
  {
   "cell_type": "markdown",
   "metadata": {},
   "source": [
    "### Overlapping Tokens Analysis"
   ]
  },
  {
   "cell_type": "code",
   "execution_count": 40,
   "metadata": {},
   "outputs": [
    {
     "name": "stdout",
     "output_type": "stream",
     "text": [
      "Overlapping tokens:  {'brake', 'has', 'fault', 'alarm', 'in', 'park'}\n",
      "Vocabulary length: 30\n"
     ]
    },
    {
     "data": {
      "image/png": "[encoded data removed]",
      "text/plain": [
       "<Figure size 1200x600 with 1 Axes>"
      ]
     },
     "metadata": {},
     "output_type": "display_data"
    }
   ],
   "source": [
    "def token_occurrences(results_df):\n",
    "    grouped = results_df.groupby(['Temperature', 'Top-p'])['MWO Output'].apply(list).reset_index()\n",
    "    \n",
    "    common_tokens = None\n",
    "    token_counts = {}\n",
    "    for _, row in grouped.iterrows():\n",
    "        combined_outputs = ' '.join(row['MWO Output'])\n",
    "        tokens = set(combined_outputs.split())\n",
    "\n",
    "        if common_tokens is None:\n",
    "            common_tokens = tokens\n",
    "        else:\n",
    "            common_tokens.intersection_update(tokens) \n",
    "            \n",
    "        for token in tokens:\n",
    "            if token not in token_counts:\n",
    "                token_counts[token] = 0\n",
    "            token_counts[token] += 1\n",
    "    return common_tokens, token_counts\n",
    "\n",
    "common_tokens, token_counts = token_occurrences(df)\n",
    "token_counts_df = pd.DataFrame(list(token_counts.items()), columns=['Token', 'Count'])\n",
    "token_counts_df = token_counts_df.sort_values(by='Count', ascending=False)\n",
    "\n",
    "print(\"Overlapping tokens: \", common_tokens)\n",
    "print(\"Vocabulary length:\", len(token_counts))\n",
    "\n",
    "plt.figure(figsize=(12, 6))\n",
    "sns.barplot(data=token_counts_df, x='Count', y='Token', palette='viridis', hue='Token', legend=False)\n",
    "plt.title('Tokens by Count')\n",
    "plt.xlabel('Count')\n",
    "plt.ylabel('Token')\n",
    "plt.tight_layout()\n",
    "plt.show()"
   ]
  },
  {
   "cell_type": "code",
   "execution_count": 51,
   "metadata": {},
   "outputs": [
    {
     "name": "stdout",
     "output_type": "stream",
     "text": [
      "          Token  Count                  Combinations (Temperature, Top-p)\n",
      "0        fixing      1                                      [[1.65, 0.6]]\n",
      "1    indicating      1                                       [[2.0, 0.7]]\n",
      "2    resolution      1                                       [[2.0, 1.0]]\n",
      "3         needs      3              [[0.0, 0.3], [1.65, 0.6], [2.0, 1.0]]\n",
      "4       address      3              [[0.0, 0.8], [0.45, 0.2], [1.8, 0.0]]\n",
      "5        system      3              [[0.15, 0.7], [1.8, 0.1], [2.0, 0.5]]\n",
      "6  troubleshoot      5  [[0.0, 0.6], [0.45, 0.7], [0.45, 0.9], [0.6, 1...\n",
      "7     indicates      7  [[0.45, 0.5], [0.75, 0.5], [0.75, 1.0], [0.9, ...\n",
      "8      diagnose     10  [[0.3, 0.3], [0.6, 0.2], [0.6, 0.3], [0.9, 0.8...\n",
      "9          with     13  [[0.6, 0.3], [0.6, 0.5], [0.6, 0.9], [0.9, 0.1...\n"
     ]
    }
   ],
   "source": [
    "def find_least_occurred_words(token_counts, results_df, n=10):\n",
    "    least_occurred_words = sorted(token_counts.items(), key=lambda item: item[1])\n",
    "    \n",
    "    results = []\n",
    "    for token, count in least_occurred_words[:n]:\n",
    "        combinations = results_df[results_df['MWO Output'].str.contains(token, na=False)]\n",
    "        settings = combinations[['Temperature', 'Top-p']].drop_duplicates()\n",
    "        \n",
    "        results.append({\n",
    "            'Token': token,\n",
    "            'Count': count,\n",
    "            'Combinations (Temperature, Top-p)': settings.values.tolist()\n",
    "        })\n",
    "\n",
    "    return results\n",
    "\n",
    "least_occurred_results = find_least_occurred_words(token_counts, df, n=10)\n",
    "\n",
    "least_occurred_df = pd.DataFrame(least_occurred_results)\n",
    "print(least_occurred_df)\n",
    "least_occurred_df.to_csv('output/least_occurred_words.csv', index=False)"
   ]
  },
  {
   "cell_type": "markdown",
   "metadata": {},
   "source": [
    "## Overall Generation Process\n",
    "For generating sentences for ONE path, we can use the following process:\n",
    "1. Use multiple **prompt variations**\n",
    "2. Generate **multiple sentences** for each completion using a random prompt\n",
    "3. Generate **paraphrases** for each generated sentence"
   ]
  },
  {
   "cell_type": "code",
   "execution_count": 24,
   "metadata": {},
   "outputs": [
    {
     "name": "stdout",
     "output_type": "stream",
     "text": [
      "Completed 25 paths\n",
      "Completed 50 paths\n",
      "Completed 75 paths\n",
      "Completed 100 paths\n"
     ]
    }
   ],
   "source": [
    "# Generate 100 random sentences using diverse\n",
    "base_prompts, limit_words, limit_count = initialise_prompts(client, num_variants=5, num_examples=5)\n",
    "paths_sample = random.sample(data, 100)\n",
    "sentences_sample = []\n",
    "\n",
    "# Generate sentences for paths\n",
    "for i, path in enumerate(paths_sample):\n",
    "    # Variant prompt\n",
    "    prompt = get_generate_prompt(base_prompts, limit_words, limit_count, path['object_name'], path['event_name'])\n",
    "    keywords = [path['object_name'], path['event_name']]\n",
    "    fewshot = get_5fewshot_message(base_prompts, limit_words, limit_count)\n",
    "    message = fewshot + [{\"role\": \"user\", \"content\": prompt}]\n",
    "\n",
    "    # Generation\n",
    "    sentences = []\n",
    "    response = client.chat.completions.create(\n",
    "                    model=\"gpt-4o-mini\",\n",
    "                    messages=message,\n",
    "                    temperature=0.9,\n",
    "                    top_p=0.9,\n",
    "                    n=1\n",
    "                )\n",
    "    response_sentences = process_mwo_response(response.choices[0].message.content)\n",
    "    sentences.extend(response_sentences)\n",
    "    sentences = list(set(sentences)) # Remove duplicates\n",
    "\n",
    "    # Paraphrase\n",
    "    paraphrases = []\n",
    "    chosen_sentence = random.choice(sentences)\n",
    "    response_paraphrases = paraphrase_mwo(client, chosen_sentence, keywords, 5)\n",
    "    response_similarities = check_similarity(chosen_sentence, response_paraphrases)\n",
    "    for para, sim in zip(response_paraphrases, response_similarities):\n",
    "        if sim > 0.9:\n",
    "            paraphrases.append(para)\n",
    "    paraphrases = list(set(paraphrases)) # Remove duplicates\n",
    "\n",
    "    # Combine\n",
    "    sentences.extend(paraphrases)\n",
    "    sentences = list(set(sentences)) # Remove duplicates\n",
    "    sentences_sample.append(random.choice(sentences))\n",
    "    \n",
    "    # Print progress status every 25 paths\n",
    "    if (i+1) % 25 == 0:\n",
    "        print(f\"Completed {i+1} paths\")\n",
    "\n",
    "# Append to text file\n",
    "with open('TuringTest/synthetic_generate.txt', 'a', encoding='utf-8') as f:\n",
    "    for sentence in sentences_sample:\n",
    "        f.write(f\"{sentence}\\n\")"
   ]
  }
 ],
 "metadata": {
  "kernelspec": {
   "display_name": "base",
   "language": "python",
   "name": "python3"
  },
  "language_info": {
   "codemirror_mode": {
    "name": "ipython",
    "version": 3
   },
   "file_extension": ".py",
   "mimetype": "text/x-python",
   "name": "python",
   "nbconvert_exporter": "python",
   "pygments_lexer": "ipython3",
   "version": "3.12.2"
  }
 },
 "nbformat": 4,
 "nbformat_minor": 2
}
